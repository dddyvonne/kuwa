{
 "cells": [
  {
   "cell_type": "code",
   "execution_count": 1,
   "metadata": {},
   "outputs": [],
   "source": [
    "import pandas as pd"
   ]
  },
  {
   "cell_type": "code",
   "execution_count": 5,
   "metadata": {},
   "outputs": [],
   "source": [
    "def replace_space_in_col_names(df):\n",
    "    new_cols = [x.replace(\" \",\"_\") for x in df.columns]\n",
    "    df.columns = new_cols"
   ]
  },
  {
   "cell_type": "code",
   "execution_count": 2,
   "metadata": {},
   "outputs": [],
   "source": [
    "sf_account_df = pd.read_excel(\"../data/QuVa-GAIL DataRequest_6_7_8_Addition2.xlsx\",\"Account\")\n",
    "sf_contact_df = pd.read_excel(\"../data/QuVa-GAIL DataRequest_6_7_8_Addition2.xlsx\",\"Contact\")\n",
    "sf_opp_stages_df = pd.read_excel(\"../data/QuVa-GAIL DataRequest_6_7_8_Addition2.xlsx\",\"OpportunityStage\")\n",
    "\n",
    "replace_space_in_col_names(sf_account_df)\n",
    "replace_space_in_col_names(sf_contact_df)\n",
    "replace_space_in_col_names(sf_opp_stages_df)"
   ]
  },
  {
   "cell_type": "code",
   "execution_count": 8,
   "metadata": {},
   "outputs": [],
   "source": [
    "sf_opp_stages_df[\"create_date\"] = sf_opp_stages_df.CreatedDate.dt.to_period('D')"
   ]
  },
  {
   "cell_type": "code",
   "execution_count": 13,
   "metadata": {},
   "outputs": [],
   "source": [
    "sf_account_df.to_csv(\"../data/sf_account.tsv\" , sep='|', index=False)\n",
    "sf_contact_df.to_csv(\"../data/sf_contact_df.tsv\" , sep='|', index=False)\n",
    "sf_opp_stages_df.to_csv(\"../data/sf_opp_stages_df.tsv\" , sep='|', index=False)"
   ]
  },
  {
   "cell_type": "code",
   "execution_count": 16,
   "metadata": {},
   "outputs": [
    {
     "data": {
      "text/plain": [
       "['Account id',\n",
       " 'Name',\n",
       " 'Type',\n",
       " 'ParentId',\n",
       " 'BillingStreet',\n",
       " 'BillingCity',\n",
       " 'BillingState',\n",
       " 'BillingPostalCode',\n",
       " 'BillingCountry',\n",
       " 'BillingStateCode',\n",
       " 'BillingCountryCode',\n",
       " 'ShippingStreet',\n",
       " 'ShippingCity',\n",
       " 'ShippingState',\n",
       " 'ShippingPostalCode',\n",
       " 'ShippingCountry',\n",
       " 'ShippingStateCode',\n",
       " 'ShippingCountryCode',\n",
       " 'Description',\n",
       " 'OwnerId',\n",
       " 'CreatedDate',\n",
       " 'LastModifiedDate',\n",
       " 'LastActivityDate',\n",
       " 'AccountSource',\n",
       " 'Customer_Prospect_Type__c',\n",
       " 'Bed_Number__c',\n",
       " 'Ship_To_Name__c',\n",
       " 'GPO_Text__c',\n",
       " 'Pharmacy_Network_text__c',\n",
       " 'Hospital_System_text__c',\n",
       " 'Infor_Customer_Type__c',\n",
       " 'DUET__creditholdreason__c',\n",
       " 'DUET__creditlimit__c',\n",
       " 'DUET__customertypeid__c',\n",
       " 'DUET__extrecordid__c',\n",
       " 'DUET__paymenttermid__c']"
      ]
     },
     "execution_count": 16,
     "metadata": {},
     "output_type": "execute_result"
    }
   ],
   "source": [
    "list(sf_account_df.columns)"
   ]
  },
  {
   "cell_type": "code",
   "execution_count": null,
   "metadata": {},
   "outputs": [],
   "source": []
  }
 ],
 "metadata": {
  "kernelspec": {
   "display_name": "Python 3",
   "language": "python",
   "name": "python3"
  },
  "language_info": {
   "codemirror_mode": {
    "name": "ipython",
    "version": 3
   },
   "file_extension": ".py",
   "mimetype": "text/x-python",
   "name": "python",
   "nbconvert_exporter": "python",
   "pygments_lexer": "ipython3",
   "version": "3.6.3"
  }
 },
 "nbformat": 4,
 "nbformat_minor": 2
}
