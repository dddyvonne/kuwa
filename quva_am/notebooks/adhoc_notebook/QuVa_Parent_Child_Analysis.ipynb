{
 "cells": [
  {
   "cell_type": "code",
   "execution_count": 37,
   "metadata": {},
   "outputs": [],
   "source": [
    "import pandas as pd\n",
    "import math\n"
   ]
  },
  {
   "cell_type": "code",
   "execution_count": 2,
   "metadata": {},
   "outputs": [],
   "source": [
    "def replace_space_in_col_names(df):\n",
    "    new_cols = [x.replace(\" \",\"_\") for x in df.columns]\n",
    "    df.columns = new_cols"
   ]
  },
  {
   "cell_type": "code",
   "execution_count": 175,
   "metadata": {},
   "outputs": [],
   "source": [
    "definitive_df = pd.read_excel(\"../../data/DefinitiveHealthData.xlsx\",0)\n",
    "defintive_Quva_mappings_df = pd.read_excel(\"../../data/DefinitiveHealthData.xlsx\",1)\n",
    "trans_df = pd.read_excel(\"../../data/QuVa-GAIL DataRequest_4_5.xlsx\",1)\n",
    "replace_space_in_col_names(definitive_df)\n",
    "replace_space_in_col_names(defintive_Quva_mappings_df)\n",
    "replace_space_in_col_names(trans_df)\n",
    "\n",
    "trans_df[\"trans_id\"] = trans_df.apply(lambda x : str(x[\"Customer_ID\"]) + \"_\" + str(x[\"Report_Date\"]),axis=1)\n",
    "\n",
    "\n",
    "\n",
    "\n",
    "definitive_df[\"Definitive_ID\"] = definitive_df[\"Definitive_ID\"].astype(str)\n",
    "definitive_df[\"Definitive_IDN_ID\"] = definitive_df[\"Definitive_IDN_ID\"].astype(str)\n",
    "definitive_df[\"Definitive_IDN_Parent_ID\"] = definitive_df[\"Definitive_IDN_Parent_ID\"].astype(str)\n",
    "\n",
    "\n",
    "definitive_df[\"Definitive_ID\"] = definitive_df[\"Definitive_ID\"].astype(str)\n",
    "definitive_df[\"Definitive_ID\"] = definitive_df[\"Definitive_ID\"].apply(lambda x : -1 if (str(x).strip() == \"\") or math.isnan(float(x)) else int(float(x)))\n",
    "definitive_df[\"Definitive_ID\"] = definitive_df[\"Definitive_ID\"].astype(str) \n",
    "\n",
    "definitive_df[\"Definitive_IDN_ID\"] = definitive_df[\"Definitive_IDN_ID\"].astype(str)\n",
    "definitive_df[\"Definitive_IDN_ID\"] = definitive_df[\"Definitive_IDN_ID\"].apply(lambda x : -1 if (str(x).strip() == \"\") or math.isnan(float(x)) else int(float(x)))\n",
    "definitive_df[\"Definitive_IDN_ID\"] = definitive_df[\"Definitive_IDN_ID\"].astype(str) \n",
    "\n",
    "definitive_df[\"Definitive_IDN_Parent_ID\"] = definitive_df[\"Definitive_IDN_Parent_ID\"].astype(str)\n",
    "definitive_df[\"Definitive_IDN_Parent_ID\"] = definitive_df[\"Definitive_IDN_Parent_ID\"].apply(lambda x : -1 if (str(x).strip() == \"\") or math.isnan(float(x)) else int(float(x)))\n",
    "definitive_df[\"Definitive_IDN_Parent_ID\"] = definitive_df[\"Definitive_IDN_Parent_ID\"].astype(str) \n",
    "\n",
    "\n",
    "defintive_Quva_mappings_df[\"FinalDefID\"] = defintive_Quva_mappings_df[\"FinalDefID\"].astype(str)\n",
    "defintive_Quva_mappings_df[\"FinalDefID\"] = defintive_Quva_mappings_df[\"FinalDefID\"].apply(lambda x : -1 if (str(x).strip() == \"\") or math.isnan(float(x)) else int(float(x)))\n",
    "defintive_Quva_mappings_df = defintive_Quva_mappings_df[defintive_Quva_mappings_df.FinalDefID !=-1]\n",
    "defintive_Quva_mappings_df[\"FinalDefID\"] = defintive_Quva_mappings_df[\"FinalDefID\"].astype(str) \n",
    "\n",
    "\n",
    "\n",
    "\n",
    "\n",
    "defintive_Quva_mappings_df[\"Customer_ID\"] = defintive_Quva_mappings_df[\"Customer_ID\"].astype(str)\n",
    "trans_df[\"Customer_ID\"] = trans_df[\"Customer_ID\"].astype(str)\n"
   ]
  },
  {
   "cell_type": "code",
   "execution_count": 176,
   "metadata": {},
   "outputs": [],
   "source": [
    "trans_def_joined_df = pd.merge(trans_df,defintive_Quva_mappings_df)\n",
    "trans_def_joined_df = pd.merge(trans_def_joined_df,definitive_df,left_on=\"FinalDefID\",right_on=\"Definitive_ID\")"
   ]
  },
  {
   "cell_type": "code",
   "execution_count": 177,
   "metadata": {},
   "outputs": [],
   "source": [
    "idn_parent_list = list(trans_def_joined_df[\"Definitive_IDN_ID\"].unique())\n",
    "idn_list = list(trans_def_joined_df[\"Definitive_IDN_Parent_ID\"].unique())"
   ]
  },
  {
   "cell_type": "code",
   "execution_count": 178,
   "metadata": {},
   "outputs": [],
   "source": [
    "trans_def_joined_df[\"is_idn_parent\"] = trans_def_joined_df[\"Definitive_ID\"].isin(idn_parent_list)\n",
    "trans_def_joined_df[\"is_idn\"] = trans_def_joined_df[\"Definitive_ID\"].isin(idn_list)\n",
    "\n",
    "\n",
    "tmplist = definitive_df[(definitive_df[\"Definitive_IDN_ID\"] == \"-1\") & (definitive_df[\"Definitive_IDN_Parent_ID\"] == \"-1\")][\"Definitive_ID\"].unique()\n",
    "tmpcustlist = list(trans_def_joined_df[trans_def_joined_df.Definitive_ID.isin(tmplist)][\"Customer_ID\"].unique())\n",
    "\n",
    "trans_def_joined_df[\"is_independent\"] = trans_def_joined_df[\"Customer_ID\"].apply(lambda x : True if x in tmpcustlist else False)\n",
    "\n",
    "trans_def_joined_df[\"is_child\"] = trans_def_joined_df.apply(lambda x : True if x[\"is_independent\"] ==False and x[\"is_idn\"] == False and x[\"is_idn_parent\"] == False  else False,axis=1)"
   ]
  },
  {
   "cell_type": "code",
   "execution_count": 179,
   "metadata": {},
   "outputs": [
    {
     "data": {
      "text/html": [
       "<div>\n",
       "<style scoped>\n",
       "    .dataframe tbody tr th:only-of-type {\n",
       "        vertical-align: middle;\n",
       "    }\n",
       "\n",
       "    .dataframe tbody tr th {\n",
       "        vertical-align: top;\n",
       "    }\n",
       "\n",
       "    .dataframe thead th {\n",
       "        text-align: right;\n",
       "    }\n",
       "</style>\n",
       "<table border=\"1\" class=\"dataframe\">\n",
       "  <thead>\n",
       "    <tr style=\"text-align: right;\">\n",
       "      <th></th>\n",
       "      <th>is_idn_parent</th>\n",
       "      <th>is_idn</th>\n",
       "      <th>is_child</th>\n",
       "      <th>is_independent</th>\n",
       "      <th>Daily_Revenue</th>\n",
       "      <th>trans_id</th>\n",
       "    </tr>\n",
       "  </thead>\n",
       "  <tbody>\n",
       "    <tr>\n",
       "      <th>0</th>\n",
       "      <td>False</td>\n",
       "      <td>False</td>\n",
       "      <td>False</td>\n",
       "      <td>True</td>\n",
       "      <td>4.207268e+06</td>\n",
       "      <td>1515</td>\n",
       "    </tr>\n",
       "    <tr>\n",
       "      <th>1</th>\n",
       "      <td>False</td>\n",
       "      <td>False</td>\n",
       "      <td>True</td>\n",
       "      <td>False</td>\n",
       "      <td>5.250078e+07</td>\n",
       "      <td>13333</td>\n",
       "    </tr>\n",
       "    <tr>\n",
       "      <th>2</th>\n",
       "      <td>True</td>\n",
       "      <td>False</td>\n",
       "      <td>False</td>\n",
       "      <td>False</td>\n",
       "      <td>7.867784e+05</td>\n",
       "      <td>144</td>\n",
       "    </tr>\n",
       "    <tr>\n",
       "      <th>3</th>\n",
       "      <td>True</td>\n",
       "      <td>True</td>\n",
       "      <td>False</td>\n",
       "      <td>False</td>\n",
       "      <td>1.615061e+06</td>\n",
       "      <td>94</td>\n",
       "    </tr>\n",
       "  </tbody>\n",
       "</table>\n",
       "</div>"
      ],
      "text/plain": [
       "   is_idn_parent  is_idn  is_child  is_independent  Daily_Revenue  trans_id\n",
       "0          False   False     False            True   4.207268e+06      1515\n",
       "1          False   False      True           False   5.250078e+07     13333\n",
       "2           True   False     False           False   7.867784e+05       144\n",
       "3           True    True     False           False   1.615061e+06        94"
      ]
     },
     "execution_count": 179,
     "metadata": {},
     "output_type": "execute_result"
    }
   ],
   "source": [
    "trans_def_joined_df.groupby([\"is_idn_parent\",\"is_idn\",\"is_child\",\"is_independent\"])\\\n",
    ".agg({'Daily_Revenue':'sum',\n",
    "     'trans_id':'nunique',\n",
    "     }).reset_index()\n",
    "#trans_def_joined_df[trans_def_joined_df.Customer_ID == \"138\"]\n",
    "#trans_df[trans_df.Customer_ID == \"138\"]"
   ]
  },
  {
   "cell_type": "code",
   "execution_count": null,
   "metadata": {},
   "outputs": [],
   "source": [
    "trans_def_joined_df[(trans_def_joined_df[\"is_idn_parent\"] == True) & (trans_def_joined_df[\"is_idn\"] == True)].head().T"
   ]
  },
  {
   "cell_type": "code",
   "execution_count": 163,
   "metadata": {},
   "outputs": [
    {
     "data": {
      "text/html": [
       "<div>\n",
       "<style scoped>\n",
       "    .dataframe tbody tr th:only-of-type {\n",
       "        vertical-align: middle;\n",
       "    }\n",
       "\n",
       "    .dataframe tbody tr th {\n",
       "        vertical-align: top;\n",
       "    }\n",
       "\n",
       "    .dataframe thead th {\n",
       "        text-align: right;\n",
       "    }\n",
       "</style>\n",
       "<table border=\"1\" class=\"dataframe\">\n",
       "  <thead>\n",
       "    <tr style=\"text-align: right;\">\n",
       "      <th></th>\n",
       "      <th>is_child</th>\n",
       "      <th>Definitive_IDN_ID</th>\n",
       "      <th>Definitive_IDN_Parent_ID</th>\n",
       "    </tr>\n",
       "  </thead>\n",
       "  <tbody>\n",
       "    <tr>\n",
       "      <th>0</th>\n",
       "      <td>True</td>\n",
       "      <td>841666</td>\n",
       "      <td>-1</td>\n",
       "    </tr>\n",
       "    <tr>\n",
       "      <th>36490</th>\n",
       "      <td>True</td>\n",
       "      <td>4722</td>\n",
       "      <td>4722</td>\n",
       "    </tr>\n",
       "    <tr>\n",
       "      <th>36480</th>\n",
       "      <td>True</td>\n",
       "      <td>4722</td>\n",
       "      <td>4722</td>\n",
       "    </tr>\n",
       "    <tr>\n",
       "      <th>36481</th>\n",
       "      <td>True</td>\n",
       "      <td>4722</td>\n",
       "      <td>4722</td>\n",
       "    </tr>\n",
       "    <tr>\n",
       "      <th>36482</th>\n",
       "      <td>True</td>\n",
       "      <td>4722</td>\n",
       "      <td>4722</td>\n",
       "    </tr>\n",
       "  </tbody>\n",
       "</table>\n",
       "</div>"
      ],
      "text/plain": [
       "       is_child Definitive_IDN_ID Definitive_IDN_Parent_ID\n",
       "0          True            841666                       -1\n",
       "36490      True              4722                     4722\n",
       "36480      True              4722                     4722\n",
       "36481      True              4722                     4722\n",
       "36482      True              4722                     4722"
      ]
     },
     "execution_count": 163,
     "metadata": {},
     "output_type": "execute_result"
    }
   ],
   "source": [
    "trans_def_joined_df[[\"is_child\",\"Definitive_IDN_ID\",\"Definitive_IDN_Parent_ID\"]].sort_values(by='is_child',ascending=False).head()"
   ]
  },
  {
   "cell_type": "code",
   "execution_count": 167,
   "metadata": {},
   "outputs": [
    {
     "data": {
      "text/plain": [
       "array(['7235', '542032'], dtype=object)"
      ]
     },
     "execution_count": 167,
     "metadata": {},
     "output_type": "execute_result"
    }
   ],
   "source": [
    "trans_def_joined_df[(trans_def_joined_df.is_idn_parent == True) & (trans_def_joined_df.is_idn == True)][\"Definitive_ID\"].unique()"
   ]
  },
  {
   "cell_type": "code",
   "execution_count": null,
   "metadata": {},
   "outputs": [],
   "source": []
  }
 ],
 "metadata": {
  "kernelspec": {
   "display_name": "Python 3",
   "language": "python",
   "name": "python3"
  },
  "language_info": {
   "codemirror_mode": {
    "name": "ipython",
    "version": 3
   },
   "file_extension": ".py",
   "mimetype": "text/x-python",
   "name": "python",
   "nbconvert_exporter": "python",
   "pygments_lexer": "ipython3",
   "version": "3.6.3"
  }
 },
 "nbformat": 4,
 "nbformat_minor": 2
}
