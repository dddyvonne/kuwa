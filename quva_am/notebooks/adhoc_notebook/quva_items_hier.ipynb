{
 "cells": [
  {
   "cell_type": "code",
   "execution_count": 1,
   "metadata": {},
   "outputs": [
    {
     "name": "stderr",
     "output_type": "stream",
     "text": [
      "/home/yehia.elshater/ve3.6.3/Python-3.6.3/Lib/importlib/_bootstrap.py:219: RuntimeWarning: numpy.dtype size changed, may indicate binary incompatibility. Expected 96, got 88\n",
      "  return f(*args, **kwds)\n",
      "/home/yehia.elshater/ve3.6.3/Python-3.6.3/Lib/importlib/_bootstrap.py:219: RuntimeWarning: numpy.dtype size changed, may indicate binary incompatibility. Expected 96, got 88\n",
      "  return f(*args, **kwds)\n"
     ]
    }
   ],
   "source": [
    "from pyhive import hive\n",
    "import pandas as pd\n",
    "pd.core.common.is_list_like = pd.api.types.is_list_like\n",
    "import numpy as np\n",
    "import seaborn as sns\n",
    "import matplotlib.pyplot as plt\n",
    "from scipy import stats\n",
    "import pandasql as ps\n",
    "from pandasql import sqldf\n",
    "import os\n",
    "import re\n",
    "import seaborn as sns\n",
    "import matplotlib.pyplot as plt\n",
    "\n",
    "sns.set(font_scale=3)\n",
    "sns.set(color_codes=True)\n",
    "%matplotlib inline\n",
    "\n",
    "from sklearn.manifold import TSNE\n",
    "from sklearn import preprocessing\n",
    "from sklearn import model_selection\n",
    "import shap\n"
   ]
  },
  {
   "cell_type": "code",
   "execution_count": 3,
   "metadata": {},
   "outputs": [],
   "source": [
    "def replace_space_in_col_names(df):\n",
    "    new_cols = [x.replace(\" \",\"_\") for x in df.columns]\n",
    "    df.columns = new_cols"
   ]
  },
  {
   "cell_type": "code",
   "execution_count": 22,
   "metadata": {},
   "outputs": [
    {
     "name": "stderr",
     "output_type": "stream",
     "text": [
      "/home/yehia.elshater/ve3.6/lib/python3.6/site-packages/IPython/core/interactiveshell.py:2785: DtypeWarning: Columns (0) have mixed types. Specify dtype option on import or set low_memory=False.\n",
      "  interactivity=interactivity, compiler=compiler, result=result)\n"
     ]
    }
   ],
   "source": [
    "items_df = pd.read_excel(\"../../data/QuVa-GAIL DataRequest_4_5.xlsx\",0)\n",
    "trans_df = pd.read_csv(\"../quva_trans.csv\")\n",
    "\n",
    "replace_space_in_col_names(items_df)\n",
    "\n",
    "\n",
    "items_df[\"Item_ID\"] = items_df[\"Item_ID\"].astype(str)\n",
    "trans_df[\"Item_ID\"] = trans_df[\"Item_ID\"].astype(str)\n",
    "trans_df[\"Customer_ID\"] = trans_df[\"Customer_ID\"].astype(str)\n",
    "\n",
    "trans_df[\"trans_id\"] = trans_df[\"Customer_ID\"] + \"_\" + trans_df[\"Order_Date\"]"
   ]
  },
  {
   "cell_type": "code",
   "execution_count": 23,
   "metadata": {},
   "outputs": [],
   "source": [
    "items_trans_joined_df = pd.merge(items_df,trans_df,on=\"Item_ID\")"
   ]
  },
  {
   "cell_type": "code",
   "execution_count": 37,
   "metadata": {},
   "outputs": [],
   "source": [
    "items_trans_joined_df.groupby([\"Item_ID\",\"Item_Description_x\"]).agg({\"Daily_Revenue\":\"sum\",\n",
    "                                                                    \"trans_id\":\"count\",\n",
    "                                                                    \"Customer_ID\":\"nunique\"}).reset_index().to_csv(\"../../adhoc/Items.csv\",index=False)\n",
    "\n",
    "items_trans_joined_df.groupby([\"Product_Code_x\",\"Product_Code_Description_x\"]).agg({\"Daily_Revenue\":\"sum\",\n",
    "                                                                    \"trans_id\":\"count\",\n",
    "                                                                    \"Customer_ID\":\"nunique\"}).reset_index().to_csv(\"../../adhoc/Items_Products_Code.csv\",index=False)\n",
    "items_trans_joined_df.groupby([\"Unit_Code\",\"Unit_Code_Description\"]).agg({\"Daily_Revenue\":\"sum\",\n",
    "                                                                    \"trans_id\":\"count\",\n",
    "                                                                    \"Customer_ID\":\"nunique\"}).reset_index().to_csv(\"../../adhoc/Items_Unit_Code.csv\",index=False)"
   ]
  },
  {
   "cell_type": "code",
   "execution_count": null,
   "metadata": {},
   "outputs": [],
   "source": []
  }
 ],
 "metadata": {
  "kernelspec": {
   "display_name": "Python 3",
   "language": "python",
   "name": "python3"
  },
  "language_info": {
   "codemirror_mode": {
    "name": "ipython",
    "version": 3
   },
   "file_extension": ".py",
   "mimetype": "text/x-python",
   "name": "python",
   "nbconvert_exporter": "python",
   "pygments_lexer": "ipython3",
   "version": "3.6.3"
  }
 },
 "nbformat": 4,
 "nbformat_minor": 2
}
