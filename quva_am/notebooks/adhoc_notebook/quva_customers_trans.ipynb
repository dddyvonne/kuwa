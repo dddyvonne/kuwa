{
 "cells": [
  {
   "cell_type": "code",
   "execution_count": null,
   "metadata": {},
   "outputs": [],
   "source": [
    "from pyhive import hive\n",
    "import pandas as pd\n",
    "pd.core.common.is_list_like = pd.api.types.is_list_like\n",
    "import numpy as np\n",
    "import seaborn as sns\n",
    "import matplotlib.pyplot as plt\n",
    "from scipy import stats\n",
    "import pandasql as ps\n",
    "from pandasql import sqldf\n",
    "import os\n",
    "import re\n",
    "import seaborn as sns\n",
    "import matplotlib.pyplot as plt\n",
    "\n",
    "sns.set(font_scale=3)\n",
    "sns.set(color_codes=True)\n",
    "%matplotlib inline\n",
    "\n",
    "from sklearn.manifold import TSNE\n",
    "from sklearn import preprocessing\n",
    "from sklearn import model_selection\n",
    "import shap\n"
   ]
  },
  {
   "cell_type": "code",
   "execution_count": null,
   "metadata": {},
   "outputs": [],
   "source": [
    "def replace_space_in_col_names(df):\n",
    "    new_cols = [x.replace(\" \",\"_\") for x in df.columns]\n",
    "    df.columns = new_cols"
   ]
  },
  {
   "cell_type": "code",
   "execution_count": null,
   "metadata": {},
   "outputs": [],
   "source": [
    "trans_df = pd.read_csv(\"../quva_trans.csv\")\n",
    "trans_df[\"Customer_ID\"] = trans_df[\"Customer_ID\"].astype(str)\n",
    "trans_df[\"Order_Date\"] = pd.to_datetime(trans_df[\"Order_Date\"])\n",
    "cust_first_trans_date_df =trans_df.groupby([\"Customer_ID\"]).min()[\"Order_Date\"].reset_index()\n",
    "cust_first_trans_date_df.columns = [\"Customer_ID\",\"First_Order_Date\"]\n",
    "trans_df = pd.merge(trans_df,cust_first_trans_date_df)\n",
    "trans_df[\"First_Order_Date\"] = pd.to_datetime(trans_df[\"First_Order_Date\"])\n",
    "trans_df[\"year_month\"] = trans_df[\"Order_Date\"].apply(lambda x : str(x.year) + str(x.month).zfill(2)) "
   ]
  },
  {
   "cell_type": "code",
   "execution_count": null,
   "metadata": {},
   "outputs": [],
   "source": [
    "sf_case_df = pd.read_excel(\"../../data/QuVa-GAIL DataRequest_6_7_8.xlsx\",\"SF_Case\")\n",
    "replace_space_in_col_names(sf_case_df)\n",
    "\n",
    "sf_case_df[\"Customer_id\"] = sf_case_df[\"Customer_id\"].astype(str)\n",
    "sf_case_df.CreatedDate = pd.to_datetime(sf_case_df.CreatedDate).dt.to_period('D')\n",
    "sf_case_df.ClosedDate = pd.to_datetime(sf_case_df.ClosedDate).dt.to_period('D')\n",
    "sf_case_df[\"Closed_Year_Month\"] = sf_case_df[\"ClosedDate\"].apply(lambda x : str(x.year) + str(x.month).zfill(2)) \n",
    "\n",
    "#filter out the customers with zero transactions\n",
    "sf_case_df = sf_case_df[sf_case_df.Customer_id.isin(trans_df.Customer_ID)]\n",
    "sf_case_df_copy = sf_case_df.copy()\n",
    "#sf_case_df = sf_case_df[[\"CaseId\",\"CreatedDate\",\"ClosedDate\",\"Closed_Year_Month\",\"Customer_id\",\"Type\",\"Priority\",\"Reason\"]]\n",
    "sf_case_df = sf_case_df[[\"CaseId\",\"CreatedDate\",\"ClosedDate\",\"Closed_Year_Month\",\"Customer_id\",\"Type\"]]\n",
    "sf_case_df = sf_case_df.sort_values(by=[\"Customer_id\",\"Closed_Year_Month\"]).reset_index().drop('index',axis=1)"
   ]
  },
  {
   "cell_type": "code",
   "execution_count": null,
   "metadata": {},
   "outputs": [],
   "source": [
    "sns.distplot(sf_case_df.groupby([\"Customer_id\"]).count()[\"CaseId\"],bins=20)"
   ]
  },
  {
   "cell_type": "code",
   "execution_count": null,
   "metadata": {},
   "outputs": [],
   "source": [
    "sf_case_features_df = sf_case_df.copy()\n",
    "sf_case_features_df = pd.get_dummies(sf_case_features_df, columns=['Type'])\n",
    "sf_case_features_df_case_counts = sf_case_features_df.groupby([\"Customer_id\",\"Closed_Year_Month\"]).count()[\"CaseId\"].reset_index()\n",
    "sf_case_features_df_type_counts = sf_case_features_df.groupby([\"Customer_id\",\"Closed_Year_Month\"]).sum().reset_index()\n",
    "sf_case_features_df_counts = pd.merge(sf_case_features_df_case_counts,sf_case_features_df_type_counts)\n",
    "sf_case_features_df_counts.head()\n",
    "sf_case_features_df_counts_cum = sf_case_features_df_counts[[\"Customer_id\",\"Closed_Year_Month\"]]\n",
    "sf_case_features_df_counts_cum = pd.concat([sf_case_features_df_counts_cum,sf_case_features_df_counts.groupby([\"Customer_id\"]).cumsum()] ,axis=1)\n",
    "sf_case_features_df_counts_cum = sf_case_features_df_counts_cum[sf_case_features_df_counts_cum.Closed_Year_Month!='nannan']\n",
    "\n"
   ]
  },
  {
   "cell_type": "code",
   "execution_count": null,
   "metadata": {},
   "outputs": [],
   "source": [
    "#group Customers trans by year/month\n",
    "trans_ym_df = trans_df[[\"Customer_ID\",\"year_month\",\"Daily_Revenue\"]].groupby([\"Customer_ID\",\"year_month\"]).sum().reset_index().sort_values(by=[\"Customer_ID\",\"year_month\"])\n",
    "trans_ym_df[\"Rev_Next_3months\"] = trans_ym_df.groupby([\"Customer_ID\"])[\"Daily_Revenue\"].rolling(3).sum().reset_index(0,drop=True).shift(-3)\n",
    "#sf_case_trans_joined = pd.merge(sf_case_features_df_counts,trans_df,on=\n",
    "\n",
    "trans_ym_df.head()"
   ]
  },
  {
   "cell_type": "code",
   "execution_count": null,
   "metadata": {},
   "outputs": [],
   "source": [
    "trans_cases_joined_df.columns"
   ]
  },
  {
   "cell_type": "code",
   "execution_count": null,
   "metadata": {},
   "outputs": [],
   "source": [
    "print(len(trans_cases_joined_df.Customer_id.unique()))\n",
    "significant_count_pos = 0\n",
    "significant_count_neg = 0\n",
    "for g in trans_cases_joined_df.groupby('Customer_ID')[['Rev_Next_3months',\"CaseId\"]]:\n",
    "    current_corr_pvalue = stats.pearsonr(g[1][\"Rev_Next_3months\"], g[1][\"CaseId\"])\n",
    "    if current_corr_pvalue[1] <= 0.05 and current_corr_pvalue[0] > 0:\n",
    "        significant_count_pos = significant_count_pos + 1\n",
    "    elif current_corr_pvalue[1] <= 0.05 and current_corr_pvalue[0] < 0:\n",
    "        significant_count_neg = significant_count_neg + 1\n",
    "        \n",
    "print(significant_count_neg)\n",
    "print(significant_count_pos)\n"
   ]
  },
  {
   "cell_type": "code",
   "execution_count": null,
   "metadata": {},
   "outputs": [],
   "source": [
    "import scipy.stats  as stats\n",
    "trans_cases_joined_df = pd.merge(trans_ym_df,sf_case_features_df_counts_cum,left_on=[\"Customer_ID\",\"year_month\"],right_on=[\"Customer_id\",\"Closed_Year_Month\"])\n",
    "trans_cases_joined_df = trans_cases_joined_df[trans_cases_joined_df.year_month.astype(int) <= 201804]\n",
    "#trans_cases_joined_df[\"Rev_Next_3months\"].corr(trans_cases_joined_df[\"CaseId\"])\n",
    "\n",
    "cust_cases_corr_df = pd.DataFrame()\n",
    "c = 'CaseId'\n",
    "cust_cases_corr_df = trans_cases_joined_df.groupby('Customer_ID')[['Rev_Next_3months',c]].corr().round(3).dropna().reset_index()[['Customer_ID',c]]\n",
    "cust_cases_corr_df = cust_cases_corr_df[cust_cases_corr_df[c]!=1]\n",
    "for c in trans_cases_joined_df.columns:\n",
    "    if 'Type_' in c:\n",
    "        temp_df = trans_cases_joined_df.groupby('Customer_ID')[['Rev_Next_3months',c]].corr().round(3).dropna().reset_index()[['Customer_ID',c]]\n",
    "        temp_df = temp_df[temp_df[c] !=1]\n",
    "        if len(cust_cases_corr_df) == 0:\n",
    "            cust_cases_corr_df = temp_df\n",
    "        else:\n",
    "            cust_cases_corr_df = pd.merge(cust_cases_corr_df,temp_df,how='left')\n",
    "\n",
    "cust_cases_corr_df = cust_cases_corr_df.fillna(0)\n",
    "cust_cases_corr_df.head()\n",
    "\n"
   ]
  },
  {
   "cell_type": "code",
   "execution_count": null,
   "metadata": {},
   "outputs": [],
   "source": [
    "cust_joined_with_neg_flag_df = trans_cases_joined_df.copy()\n",
    "cust_joined_with_neg_flag_df[\"Is_Declining\"] = cust_joined_with_neg_flag_df.Customer_ID.apply(lambda x : 1 if x in list(cust_cases_corr_df[cust_cases_corr_df.CaseId < -0.01 ].Customer_ID) else 0)\n",
    "cust_joined_with_neg_flag_df[\"trans_id\"] = cust_joined_with_neg_flag_df[\"Customer_ID\"] + \"_\" + cust_joined_with_neg_flag_df[\"year_month\"]\n",
    "cust_joined_with_neg_flag_df.groupby([\"Is_Declining\"]).agg({'Customer_ID':'nunique',\n",
    "                                                           'Daily_Revenue':'sum',\n",
    "                                                           'CaseId' : 'max',\n",
    "                                                           'trans_id' :'nunique'})\n"
   ]
  },
  {
   "cell_type": "code",
   "execution_count": null,
   "metadata": {},
   "outputs": [],
   "source": [
    "cust_joined_with_neg_flag_df.sort_values(by=[\"Customer_ID\",\"year_month\"])[[\"Customer_ID\",\"year_month\",\"Daily_Revenue\",\"Rev_Next_3months\",\"CaseId\"]].tail(20)"
   ]
  },
  {
   "cell_type": "code",
   "execution_count": null,
   "metadata": {},
   "outputs": [],
   "source": [
    "#sns.distplot(cust_cases_corr_df.Type_Portal)\n",
    "corr_melt = pd.melt(cust_cases_corr_df, \"Customer_ID\")\n",
    "g = sns.FacetGrid(corr_melt, col=\"variable\", col_wrap=7, sharex=False,gridspec_kws={\"hspace\":0.9})\n",
    "g.map(plt.hist, \"value\", alpha=.4)"
   ]
  },
  {
   "cell_type": "code",
   "execution_count": null,
   "metadata": {},
   "outputs": [],
   "source": [
    "ax = sns.distplot(cust_cases_corr_df.CaseId,bins=10,kde=False,kde_kws={'clip': (0.0, 1.0)})\n",
    "ax.set_ylabel(\"Number of Customers\")\n",
    "ax.set_xlabel(\"Correlation with the total number of cases\")"
   ]
  },
  {
   "cell_type": "code",
   "execution_count": null,
   "metadata": {},
   "outputs": [],
   "source": [
    "sample_custs = trans_cases_joined_df.groupby('Customer_ID').filter(lambda x : len(x) > 5 )['Customer_ID']\n",
    "cust_cases_corr_df_2 = cust_cases_corr_df[cust_cases_corr_df.Customer_ID.isin(sample_custs)]\n",
    "high_case_id_customers = cust_cases_corr_df_2.sort_values(by='CaseId',ascending=False)['Customer_ID'].head(5)\n",
    "high_case_id_customers_joined = trans_cases_joined_df[trans_cases_joined_df.Customer_ID.isin(high_case_id_customers)]\n",
    "high_case_id_customers_joined\n",
    "print(high_case_id_customers_joined.Customer_ID.drop_duplicates().head(2))\n",
    "\n",
    "for c in high_case_id_customers_joined.Customer_ID.drop_duplicates():\n",
    "    ax = sns.lineplot(label=\"Customer_ID:\" + c, y=\"Rev_Next_3months\", x=\"CaseId\", data=high_case_id_customers_joined[high_case_id_customers_joined.Customer_ID == c])\n",
    "    ax.set_ylabel('Total Revenue in the next 3 months')\n",
    "    ax.set_xlabel('Number of cases over time')\n",
    "    plt.legend(loc='upper right')\n",
    "\n",
    "#sns.lineplot(y=\"Rev_Next_3months\", x=\"CaseId\", data=high_case_id_customers_joined[high_case_id_customers_joined.Customer_ID == \"10172\"])"
   ]
  },
  {
   "cell_type": "code",
   "execution_count": null,
   "metadata": {},
   "outputs": [],
   "source": [
    "high_case_id_customers_joined[high_case_id_customers_joined.Customer_ID==\"10163\"]\n",
    "high_case_id_customers_joined"
   ]
  },
  {
   "cell_type": "code",
   "execution_count": null,
   "metadata": {},
   "outputs": [],
   "source": [
    "sf_account_pid_mapping_df = pd.read_csv(\"../QuVa_Featurizer/sf_account_pid_mapping_df.csv\")[[\"Account_id\",\"Provider_ID\",\"DUET__extrecordid__c\"]]\n",
    "sf_account_pid_mapping_df.rename(columns={'DUET__extrecordid__c' : 'Customer_ID'},inplace=True)\n",
    "sf_account_pid_mapping_df.head()\n",
    "cust_cases_corr_df_joined = pd.merge(cust_cases_corr_df,sf_account_pid_mapping_df)\n",
    "cust_cases_corr_df_joined[\"Is_Declining\"] = cust_cases_corr_df_joined[\"CaseId\"].apply(lambda x : 1 if x < -0.01 else 0)\n",
    "cust_cases_corr_df_joined = cust_cases_corr_df_joined[[\"Customer_ID\",\"Account_id\",\"Provider_ID\",\"CaseId\",\"Is_Declining\"]]\n",
    "\n",
    "#get QuVa scaled features\n",
    "quva_features_scaled = pd.read_csv(\"../QuVa_Featurizer/x_scaled_df_to_save.csv\")\n",
    "quva_features_scaled_joined = pd.merge(cust_cases_corr_df_joined,quva_features_scaled)"
   ]
  },
  {
   "cell_type": "code",
   "execution_count": null,
   "metadata": {},
   "outputs": [],
   "source": [
    "len(quva_features_scaled_joined)"
   ]
  },
  {
   "cell_type": "code",
   "execution_count": null,
   "metadata": {},
   "outputs": [],
   "source": [
    "X = quva_features_scaled_joined.drop([\"Account_id\",\"Provider_ID\",\"Customer_ID\",\"Is_Declining\",\"CaseId\"],axis=1)\n",
    "y = quva_features_scaled_joined[\"Is_Declining\"]\n",
    "tsne = TSNE(n_components=2, verbose=1, perplexity=30, n_iter=800)\n",
    "tsne_results = tsne.fit_transform(X)\n",
    "tsne_df = pd.DataFrame(tsne_results)\n",
    "tsne_df.columns = [\"tsne1\",\"tsne2\"]\n",
    "tsne_df[\"Is_Negative\"] = y\n",
    "\n",
    "sns.set(style=\"ticks\")\n",
    "g = sns.catplot(x=\"tsne1\", y=\"tsne2\", hue=\"Is_Negative\", data=tsne_df)\n"
   ]
  },
  {
   "cell_type": "code",
   "execution_count": null,
   "metadata": {},
   "outputs": [],
   "source": [
    "import lightgbm as lgb\n",
    "def run_lgb(train_X, train_y,num_iterations=1000):\n",
    "    params = {\n",
    "        #\"objective\" : \"quantile\",\n",
    "        \"objective\" : \"binary\",\n",
    "        \"metric\" : \"binary_logloss\",\n",
    "        'unbalance': True,\n",
    "        \"num_leaves\" : 30,\n",
    "        \"learning_rate\" : 0.01,\n",
    "        \"bagging_fraction\" : 0.9,\n",
    "        \"feature_fraction\" : 0.8,\n",
    "        #\"bagging_frequency\" : 5,\n",
    "        \"bagging_seed\" : 13\n",
    "        #'metric': 'rmsle'\n",
    "    }\n",
    "    lgtrain = lgb.Dataset(train_X, label=train_y)\n",
    "    model = lgb.train(params, lgtrain, num_iterations, verbose_eval=50)\n",
    "    return model"
   ]
  },
  {
   "cell_type": "code",
   "execution_count": null,
   "metadata": {},
   "outputs": [],
   "source": [
    "from sklearn.metrics import roc_auc_score,average_precision_score\n",
    "from sklearn.model_selection import train_test_split\n",
    "from sklearn.metrics import classification_report\n",
    "from sklearn.metrics import roc_auc_score,average_precision_score,f1_score\n",
    "\n",
    "kf = model_selection.KFold(n_splits=5, shuffle=True, random_state=113)\n",
    "roc_auc_scores = []\n",
    "avg_precision_scores=[]\n",
    "for train_index, test_index in kf.split(x_scaled_df):\n",
    "    X_train, X_test = X.iloc[train_index,:], X.iloc[test_index,:]\n",
    "    y_train, y_test = y[train_index], y[test_index]\n",
    "    model = run_lgb(X_train,y_train)\n",
    "    y_predict = model.predict(X_test)\n",
    "    #print(classification_report(y_test, y_predict.round(),target_names=[\"Prospect\",\"Customer\"]))\n",
    "    roc_auc_scores.append(roc_auc_score(y_test,y_predict))\n",
    "    avg_precision_scores.append(average_precision_score(y_test,y_predict))\n",
    "\n",
    "\n",
    "print(np.average(roc_auc_scores))\n",
    "print(np.average(avg_precision_scores))\n",
    "\n",
    "X_train, X_test, y_train, y_test = train_test_split(X, y, test_size=0.15, random_state=117)\n",
    "model = run_lgb(X_train,y_train)\n",
    "y_predict = model.predict(X_test)\n",
    "\n",
    "print(classification_report(y_test, y_predict.round(),target_names=[\"Non_Declining\",\"Is_Declining\"]))\n",
    "print(roc_auc_score(y_test,y_predict))\n",
    "print(average_precision_score(y_test,y_predict))"
   ]
  },
  {
   "cell_type": "code",
   "execution_count": null,
   "metadata": {},
   "outputs": [],
   "source": [
    "lgb.plot_importance(model, max_num_features=10)\n",
    "fi=pd.DataFrame(model.feature_importance()).T\n",
    "fi.columns = X.columns\n",
    "fi = fi.T.reset_index()\n",
    "fi.columns = [\"Feature\",\"Importance_Score\"]\n",
    "#fi.sort_values(by=\"Importance_Score\").to_csv(\"light_gbm_fi.csv\",index=False)\n"
   ]
  },
  {
   "cell_type": "code",
   "execution_count": null,
   "metadata": {},
   "outputs": [],
   "source": [
    "shap.initjs()\n",
    "# explain the model's predictions using SHAP values\n",
    "# (same syntax works for LightGBM, CatBoost, and scikit-learn models)\n",
    "explainer = shap.TreeExplainer(model)\n",
    "shap_values = explainer.shap_values(X)\n",
    "# visualize the first prediction's explanation\n",
    "#shap.force_plot(explainer.expected_value, shap_values[0,:], x_scaled_df.iloc[0,:])\n",
    "#shap.summary_plot(shap_values, x_scaled_df,max_display=len(x_scaled_df.columns),show=False,title=\"QuVa Prediction Features\")\n",
    "shap.summary_plot(shap_values, X,max_display=30,show=False,title=\"QuVa Prediction Features\")"
   ]
  },
  {
   "cell_type": "code",
   "execution_count": null,
   "metadata": {},
   "outputs": [],
   "source": [
    "len(X)"
   ]
  },
  {
   "cell_type": "code",
   "execution_count": null,
   "metadata": {},
   "outputs": [],
   "source": [
    "def get_SHAP_features_importance(shap_values,all_features_names):\n",
    "    global_shap_values = np.abs(shap_values).mean(0)\n",
    "    shap_df = pd.DataFrame([global_shap_values],columns=all_features_names).T.reset_index()\n",
    "    #shap_df.columns = list(x_scaled_df.columns)\n",
    "    shap_df.columns = [\"feature\",\"mean_shap_value\"]\n",
    "    shap_df = shap_df.sort_values(by=\"mean_shap_value\",ascending=False)\n",
    "    return shap_df "
   ]
  },
  {
   "cell_type": "code",
   "execution_count": null,
   "metadata": {},
   "outputs": [],
   "source": [
    "get_SHAP_features_importance(shap_values,X.columns).to_csv(\"declining_model_fi.csv\",index=False)"
   ]
  },
  {
   "cell_type": "code",
   "execution_count": null,
   "metadata": {},
   "outputs": [],
   "source": [
    "sf_case_comments_df = pd.read_excel(\"../../data/QuVa-GAIL DataRequest_6_7_8.xlsx\",\"SF_CaseComment\")\n",
    "sf_case_comments_df.CreatedDate = pd.to_datetime(sf_case_comments_df.CreatedDate).dt.to_period('D')\n",
    "sf_case_df_copy = sf_case_df_copy.sort_values(by=['Customer_id','CaseId','CreatedDate'])\n",
    "sf_case_df_copy2 = pd.merge(sf_case_df_copy,sf_case_comments_df,right_on='Caseid',left_on='CaseId',how='left')\n",
    "high_case_id_customers = cust_cases_corr_df_2.sort_values(by='CaseId',ascending=True)['Customer_ID'].head(5)\n",
    "\n",
    "sf_case_df_copy_neg = sf_case_df_copy2[sf_case_df_copy2.Customer_id.isin(high_case_id_customers)]\n",
    "sf_case_df_copy_neg = sf_case_df_copy_neg[[\"CaseId\",\"CreatedDate_x\",\"Customer_id\",\"Description\",\"ClosedDate\",\"Type\",\"Resolution_Description__c\",\"Resolution_Description\",\"Reason\",\"CommentBody\"]]\n",
    "sf_case_df_copy_neg[\"Is_Declining\"] = 'True'\n",
    "\n",
    "high_case_id_customers = cust_cases_corr_df_2.sort_values(by='CaseId',ascending=False)['Customer_ID'].head(5)\n",
    "\n",
    "sf_case_df_copy_pos = sf_case_df_copy2[sf_case_df_copy2.Customer_id.isin(high_case_id_customers)]\n",
    "sf_case_df_copy_pos = sf_case_df_copy_pos[[\"CaseId\",\"CreatedDate_x\",\"Customer_id\",\"Customer_Name\",\"Description\",\"ClosedDate\",\"Type\",\"Resolution_Description__c\",\"Resolution_Description\",\"Reason\",\"CommentBody\"]]\n",
    "sf_case_df_copy_pos[\"Is_Declining\"] = 'False'\n",
    "\n"
   ]
  },
  {
   "cell_type": "code",
   "execution_count": null,
   "metadata": {},
   "outputs": [],
   "source": [
    "sf_case_df_momentum_df = pd.concat([sf_case_df_copy_neg,sf_case_df_copy_pos],ignore_index=True,sort=False)\n",
    "print(len(sf_case_df_copy_neg))\n",
    "print(len(sf_case_df_copy_pos))\n",
    "print(len(sf_case_df_momentum_df))\n",
    "sf_case_df_momentum_df.rename(columns={'CreatedDate_x' : 'CreatedDate'},inplace=True)\n",
    "sf_case_df_momentum_df.to_csv(\"sf_case_customers_examples.csv\",index=False)"
   ]
  },
  {
   "cell_type": "code",
   "execution_count": null,
   "metadata": {},
   "outputs": [],
   "source": [
    "trans_df[\"Customer_Age_In_Days\"] = (trans_df[\"Order_Date\"] - trans_df[\"First_Order_Date\"]).apply(lambda x : x.days)\n",
    "trans_df[\"Order_Year\"] = trans_df.Order_Date.apply(lambda x : x.year)\n",
    "trans_df[\"Order_Month\"] = trans_df.Order_Date.apply(lambda x : x.month)\n",
    "trans_df[\"Order_Day\"] = trans_df.Order_Date.apply(lambda x : x.day)\n",
    "trans_df = trans_df.sort_values(by=[\"Customer_ID\",\"Order_Date\"])"
   ]
  },
  {
   "cell_type": "code",
   "execution_count": null,
   "metadata": {},
   "outputs": [],
   "source": [
    "trans_df = trans_df.drop([\"New_TherClass_Flag\"],axis=1,errors='ignore')\n",
    "trans_df.to_csv(\"QuVa_Transactions_with_Customer_Age.csv\",index=False)"
   ]
  },
  {
   "cell_type": "code",
   "execution_count": null,
   "metadata": {},
   "outputs": [],
   "source": [
    "trans_df[\"Order_Month\"] =  trans_df[\"Order_Month\"].astype(str).apply(lambda x : x.zfill(2))\n",
    "trans_df[\"year_month\"] = trans_df[\"Order_Year\"].astype(str) + trans_df[\"Order_Month\"].astype(str)\n",
    "trans_df[\"year_month\"] = trans_df[\"year_month\"].astype(int)\n",
    "#sns.distplot(trans_df.groupby([\"Customer_ID\"]).nunique()[\"year_month\"],hist_kws={'cumulative': True},kde_kws={'cumulative': True})\n",
    "trans_df_12mon_cust = trans_df.groupby([\"Customer_ID\"]).nunique()[\"year_month\"].reset_index()\n",
    "trans_df_12mon_cust = trans_df_12mon_cust[trans_df_12mon_cust.year_month >= 12]\n",
    "len(trans_df_12mon_cust)\n",
    "trans_df_12mon_df = trans_df[trans_df.Customer_ID.isin( trans_df_12mon_cust[\"Customer_ID\"])]\n",
    "trans_df_12mon_df = trans_df_12mon_df.groupby([\"Customer_ID\",\"year_month\"]).sum()[\"Daily_Revenue\"].reset_index()\n",
    "trans_df_12mon_df[\"cust_rank\"] = trans_df_12mon_df.groupby([\"Customer_ID\"])[\"year_month\"].rank()\n",
    "trans_df_12mon_df = trans_df_12mon_df[trans_df_12mon_df[\"cust_rank\"] <= 12]\n",
    "#trans_df_12mon_df = trans_df_12mon_df.groupby([\"Customer_ID\",\"year_month\"]).sum()[\"Daily_Revenue\"].reset_index()\n",
    "\n",
    "\n"
   ]
  },
  {
   "cell_type": "code",
   "execution_count": null,
   "metadata": {},
   "outputs": [],
   "source": []
  },
  {
   "cell_type": "code",
   "execution_count": 770,
   "metadata": {},
   "outputs": [
    {
     "name": "stdout",
     "output_type": "stream",
     "text": [
      "0.2\n"
     ]
    }
   ],
   "source": [
    "#timeseries clustering attempt\n",
    "from dtw import dtw\n",
    "import random\n",
    "from numpy import array\n",
    "from numpy.linalg import norm\n",
    "from math import sqrt\n",
    "import time\n",
    "import datetime\n",
    "x = array([0, 0, 1, 1, 2, 4, 2, 1, 2, 0]).reshape(-1, 1)\n",
    "y = array([1, 1, 1, 2, 2, 2, 2, 3, 2, 0]).reshape(-1, 1)\n",
    "\n",
    "dist, cost, acc, path = dtw(x, y, dist=lambda x, y: norm(x - y, ord=1))\n",
    "print(dist)\n",
    "\n",
    "\n",
    "def DTWDistance(s1, s2,w):\n",
    "    DTW={}\n",
    "\n",
    "    w = max(w, abs(len(s1)-len(s2)))\n",
    "\n",
    "    for i in range(-1,len(s1)):\n",
    "        for j in range(-1,len(s2)):\n",
    "            DTW[(i, j)] = float('inf')\n",
    "    DTW[(-1, -1)] = 0\n",
    "\n",
    "    for i in range(len(s1)):\n",
    "        for j in range(max(0, i-w), min(len(s2), i+w)):\n",
    "            dist= (s1[i]-s2[j])**2\n",
    "            DTW[(i, j)] = dist + min(DTW[(i-1, j)],DTW[(i, j-1)], DTW[(i-1, j-1)])\n",
    "\n",
    "    return sqrt(DTW[len(s1)-1, len(s2)-1])\n",
    "\n",
    "\n",
    "\n",
    "def LB_Keogh(s1,s2,r):\n",
    "    LB_sum=0\n",
    "    for ind,i in enumerate(s1):\n",
    "\n",
    "        lower_bound=min(s2[(ind-r if ind-r>=0 else 0):(ind+r)])\n",
    "        upper_bound=max(s2[(ind-r if ind-r>=0 else 0):(ind+r)])\n",
    "\n",
    "        if i>upper_bound:\n",
    "            LB_sum=LB_sum+(i-upper_bound)**2\n",
    "        elif i<lower_bound:\n",
    "            LB_sum=LB_sum+(i-lower_bound)**2\n",
    "\n",
    "    return sqrt(LB_sum)\n",
    "\n",
    "\n",
    "\n",
    "\n",
    "\n",
    "def k_means_clust(data,num_clust,num_iter,w=6):\n",
    "    data_indexed = []\n",
    "    for advisor_id in data:\n",
    "        data_indexed.append((advisor_id,data[advisor_id]))\n",
    "    \n",
    "    sample_centroids=random.sample(list(data),num_clust)\n",
    "    centroids = [] \n",
    "    for customer_id in sample_centroids:\n",
    "        centroids.append((customer_id,data[customer_id]))\n",
    "    counter=0\n",
    "    for n in range(num_iter):\n",
    "        counter = counter + 1\n",
    "        current_time = time.time() #current timestamp\n",
    "        ts_friendly = datetime.datetime.fromtimestamp(current_time).strftime('%Y_%m_%d %H:%M')\n",
    "        assignments={}\n",
    "        #assign data points to clusters\n",
    "        for ind,i in enumerate(data_indexed):\n",
    "        #for ind,i in data.iteritems():\n",
    "            #i = data[i]\n",
    "            data_points1 = array(i[1]).reshape(-1, 1)\n",
    "            min_dist=float('inf')\n",
    "            closest_clust=None\n",
    "            for c_ind,j in enumerate(centroids):\n",
    "                data_points2 = array(j[1]).reshape(-1, 1)\n",
    "                #if LB_Keogh(data_points1,data_points2,5)<min_dist:\n",
    "                cur_dist=DTWDistance(data_points1,data_points2,w)\n",
    "                if cur_dist<min_dist:\n",
    "                    min_dist=cur_dist\n",
    "                    closest_clust=c_ind\n",
    "            if closest_clust in assignments:\n",
    "                assignments[closest_clust].append(i[0])\n",
    "            else:\n",
    "                assignments[closest_clust]=[i[0]]\n",
    "\n",
    "        #recalculate centroids of clusters\n",
    "        for key1 in assignments:\n",
    "            clust_sum=0\n",
    "            for k in assignments[key1]:\n",
    "                #print(data[k])\n",
    "                clust_sum=clust_sum+np.sum(data[k])\n",
    "            \n",
    "            #cluster_sum2 = [m/(len(assignments[key1])) for m in clust_sum]\n",
    "            #centroids[key1]=[centroids[key1][0],cluster_sum2]\n",
    "            centroids[key1]=[centroids[key1][0],clust_sum]\n",
    "\n",
    "    return centroids , assignments\n",
    "\n",
    "\n",
    "\n"
   ]
  },
  {
   "cell_type": "code",
   "execution_count": null,
   "metadata": {},
   "outputs": [],
   "source": [
    "trans_ym_df.head()"
   ]
  },
  {
   "cell_type": "code",
   "execution_count": 726,
   "metadata": {},
   "outputs": [],
   "source": [
    "trans_ym_df_dense_groups = trans_ym_df.groupby('Customer_ID')\n",
    "trans_ym_df_dense = trans_ym_df_dense_groups.filter(lambda x: len(x) >= 12).dropna()\n",
    "trans_ym_df_dense[\"Rev_Next_3months_scaled\"] = trans_ym_df_dense_groups[\"Rev_Next_3months\"].transform(lambda x : (x-x.min())/(x.max()-x.min()))\n",
    "trans_ym_df_dense = trans_ym_df_dense.drop(['Daily_Revenue','Rev_Next_3months'],axis=1)\n",
    "\n",
    "trans_ym_df_dense.groupby('Customer_ID').count()[\"year_month\"].max()\n",
    "dummy_time_index_df = pd.DataFrame(np.arange(1,trans_ym_df_dense.groupby('Customer_ID').count()[\"year_month\"].max() + 1))\n",
    "dummy_time_index_df.columns=[\"time_index\"]\n",
    "dummy_time_index_df[\"time_index\"] = dummy_time_index_df[\"time_index\"].astype(int)\n"
   ]
  },
  {
   "cell_type": "code",
   "execution_count": 727,
   "metadata": {},
   "outputs": [
    {
     "data": {
      "text/plain": [
       "219"
      ]
     },
     "execution_count": 727,
     "metadata": {},
     "output_type": "execute_result"
    }
   ],
   "source": [
    "full_cust_time_index = pd.MultiIndex.from_product([list(dummy_time_index_df.time_index.unique()), list(trans_ym_df_dense.Customer_ID.unique())], names = [\"time_index\", \"Customer_ID\"])\n",
    "dummy_time_index_df = pd.DataFrame(index=full_cust_time_index).reset_index()\n",
    "dummy_time_index_df.Customer_ID.unique()"
   ]
  },
  {
   "cell_type": "code",
   "execution_count": 728,
   "metadata": {},
   "outputs": [],
   "source": [
    "trans_ym_df_dense[\"time_index\"] = trans_ym_df_dense.groupby('Customer_ID')['year_month'].cumcount() + 1\n",
    "trans_ym_df_dense\n",
    "trans_ym_df_dense[\"time_index\"] = trans_ym_df_dense[\"time_index\"].astype(int)\n",
    "trans_ym_df_sparse = pd.merge(trans_ym_df_dense,dummy_time_index_df,how='outer')\n",
    "trans_ym_df_sparse = trans_ym_df_sparse.sort_values(by=['Customer_ID','time_index']).reset_index()\n",
    "trans_ym_df_sparse = trans_ym_df_sparse.drop([\"index\"],axis=1)\n",
    "\n",
    "#fill missing values with moving average\n",
    "#trans_ym_df_sparse.groupby('Customer_ID')[\"Rev_Next_3months_scaled\"].fillna()\n",
    "trans_ym_df_sparse[\"Rev_Next_3months_scaled\"] = trans_ym_df_sparse.groupby('Customer_ID')[\"Rev_Next_3months_scaled\"].transform(lambda x : x.fillna(x.mean()))\n",
    "trans_ym_df_sparse = trans_ym_df_sparse[[\"Customer_ID\",\"Rev_Next_3months_scaled\"]]\n",
    "trans_ym_df_sparse = trans_ym_df_sparse.dropna()\n",
    "#trans_ym_df_sparse.set_index('Customer_ID')[\"Rev_Next_3months_scaled\"].to_dict()[\"10002\"]\n"
   ]
  },
  {
   "cell_type": "code",
   "execution_count": 766,
   "metadata": {},
   "outputs": [],
   "source": [
    "def update_hash_map_list_values (hash_map , key , value):\n",
    "    value_list = hash_map.get(key) #ts of a given customer\n",
    "    if value_list == None:\n",
    "        value_list = []\n",
    "    value_list.append(value) \n",
    "    hash_map[key] = value_list\n",
    "\n",
    "cust_ts = {}\n",
    "for index, row in trans_ym_df_sparse.iterrows():\n",
    "    update_hash_map_list_values(cust_ts,row[\"Customer_ID\"],row[\"Rev_Next_3months_scaled\"])\n",
    "\n",
    "    \n",
    "\n"
   ]
  },
  {
   "cell_type": "code",
   "execution_count": 771,
   "metadata": {},
   "outputs": [],
   "source": [
    "centroids , assignments =  k_means_clust(cust_ts,3,20,3)"
   ]
  },
  {
   "cell_type": "code",
   "execution_count": 747,
   "metadata": {},
   "outputs": [
    {
     "data": {
      "text/html": [
       "['10204', '10132', '10002']"
      ],
      "text/plain": [
       "['10204', '10132', '10002']"
      ]
     },
     "execution_count": 747,
     "metadata": {},
     "output_type": "execute_result"
    }
   ],
   "source": [
    "random.sample(list(cust_ts),3)"
   ]
  },
  {
   "cell_type": "code",
   "execution_count": 775,
   "metadata": {},
   "outputs": [
    {
     "data": {
      "text/html": [
       "[['9451', 2091.9727903582684], ['10156', 2091.9727903582684], ['10284', 2091.9727903582684]]"
      ],
      "text/plain": [
       "[['9451', 2091.9727903582684],\n",
       " ['10156', 2091.9727903582684],\n",
       " ['10284', 2091.9727903582684]]"
      ]
     },
     "execution_count": 775,
     "metadata": {},
     "output_type": "execute_result"
    }
   ],
   "source": [
    "centroids"
   ]
  },
  {
   "cell_type": "code",
   "execution_count": 774,
   "metadata": {},
   "outputs": [
    {
     "data": {
      "text/plain": [
       "dict_keys([0])"
      ]
     },
     "execution_count": 774,
     "metadata": {},
     "output_type": "execute_result"
    }
   ],
   "source": []
  },
  {
   "cell_type": "code",
   "execution_count": null,
   "metadata": {},
   "outputs": [],
   "source": []
  }
 ],
 "metadata": {
  "kernelspec": {
   "display_name": "Python 3",
   "language": "python",
   "name": "python3"
  },
  "language_info": {
   "codemirror_mode": {
    "name": "ipython",
    "version": 3
   },
   "file_extension": ".py",
   "mimetype": "text/x-python",
   "name": "python",
   "nbconvert_exporter": "python",
   "pygments_lexer": "ipython3",
   "version": "3.6.3"
  }
 },
 "nbformat": 4,
 "nbformat_minor": 2
}
