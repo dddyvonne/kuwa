{
 "cells": [
  {
   "cell_type": "code",
   "execution_count": null,
   "metadata": {},
   "outputs": [],
   "source": [
    "import pandas as pd\n",
    "import numpy as np\n",
    "import seaborn as sns\n",
    "import matplotlib.pyplot as plt\n",
    "from scipy import stats\n",
    "import pandasql as ps\n",
    "from pandasql import sqldf\n",
    "\n",
    "sns.set(font_scale=3)\n",
    "sns.set(color_codes=True)\n",
    "%matplotlib inline\n",
    "import matplotlib.pyplot as plt\n",
    "from fuzzywuzzy import fuzz,process\n",
    "\n",
    "\n",
    "\n",
    "plt.rcParams[\"figure.figsize\"] = [16, 16] \n",
    "\n",
    "\n",
    "pysqldf = lambda q: sqldf(q, globals())\n"
   ]
  },
  {
   "cell_type": "code",
   "execution_count": null,
   "metadata": {},
   "outputs": [],
   "source": [
    "def replace_space_in_col_names(df):\n",
    "    new_cols = [x.replace(\" \",\"_\") for x in df.columns]\n",
    "    df.columns = new_cols"
   ]
  },
  {
   "cell_type": "code",
   "execution_count": null,
   "metadata": {},
   "outputs": [],
   "source": [
    "hospitals_df = pd.read_csv(\"../web_data/Hospital_General_Information.csv\")\n",
    "sf_account_df = pd.read_excel(\"../data/QuVa-GAIL DataRequest_6_7_8_Addition2.xlsx\",\"Account\")\n",
    "replace_space_in_col_names(hospitals_df)\n",
    "replace_space_in_col_names(sf_account_df)\n",
    "hospitals_df.City = hospitals_df.City.str.lower()\n",
    "hospitals_df.ZIP_Code = hospitals_df.ZIP_Code.astype(str)\n",
    "hospitals_df.Provider_ID = hospitals_df.Provider_ID.astype(str)\n",
    "sf_account_df.BillingPostalCode = sf_account_df.BillingPostalCode.astype(str)\n",
    "sf_account_df.ShippingCity = sf_account_df.ShippingCity.str.lower()\n",
    "\n"
   ]
  },
  {
   "cell_type": "code",
   "execution_count": null,
   "metadata": {},
   "outputs": [],
   "source": [
    "hospitals_subset = hospitals_df[[\"Provider_ID\",\"Hospital_Name\",\"Address\",\"ZIP_Code\",\"City\",\"State\"]]\n",
    "sf_account_subset = sf_account_df[[\"Account_id\",\"Name\",\"BillingCity\",\"BillingState\",\"BillingPostalCode\",\"BillingStreet\",\"ShippingPostalCode\",\"ShippingCity\"]]\n",
    "sf_account_subset[\"ShippingPostalCode\"] = sf_account_subset.ShippingPostalCode.apply(lambda x : x.split('-')[0] if \"-\"  in str(x) else str(x))\n",
    "sf_account_subset.head()"
   ]
  },
  {
   "cell_type": "code",
   "execution_count": null,
   "metadata": {},
   "outputs": [],
   "source": [
    "len(sf_account_subset[~sf_account_subset.ShippingPostalCode.isnull()])\n",
    "temps = \"69810\"\n",
    "temps[:-1]\n",
    "\n",
    "sf_account_subset[\"PartialShippingPostalCode\"] = sf_account_subset.ShippingPostalCode.apply(lambda x : x[:-1])\n",
    "hospitals_subset[\"Partial_ZIP_Code\"] = hospitals_subset.ZIP_Code.apply(lambda x : x[:-1])"
   ]
  },
  {
   "cell_type": "code",
   "execution_count": null,
   "metadata": {},
   "outputs": [],
   "source": [
    "merged_by_zipcode = pd.merge(sf_account_subset,hospitals_subset,left_on=\"ShippingPostalCode\",right_on=\"ZIP_Code\",how='left')\n",
    "matched_merged_by_zipcode = merged_by_zipcode[~merged_by_zipcode.City.isnull()]\n",
    "matched_merged_by_zipcode[\"fuzzy_name_score\"] = matched_merged_by_zipcode.apply(lambda x : fuzz.QRatio(x.Name.lower(),x.Hospital_Name.lower()),axis=1)\n",
    "matched_merged_by_zipcode[\"fuzzy_name_rank\"] = matched_merged_by_zipcode.groupby('Account_id')['fuzzy_name_score'].rank(ascending=False)\n",
    "matched_merged_by_zipcode = matched_merged_by_zipcode[matched_merged_by_zipcode.fuzzy_name_rank == 1]\n",
    "manual_merged_by_zipcode = matched_merged_by_zipcode[matched_merged_by_zipcode.fuzzy_name_score < 50]\n",
    "matched_merged_by_zipcode = matched_merged_by_zipcode[matched_merged_by_zipcode.fuzzy_name_score >= 50]\n",
    "\n",
    "non_matched_merged_by_zipcode = merged_by_zipcode[merged_by_zipcode.City.isnull()]\n",
    "non_matched_merged_by_zipcode = pd.merge(non_matched_merged_by_zipcode,hospitals_subset,left_on='ShippingCity',right_on='City',how='left')\n",
    "non_matched_merged_by_zipcode.fillna(' ')\n",
    "non_matched_merged_by_zipcode.Hospital_Name_y = non_matched_merged_by_zipcode.Hospital_Name_y.astype(str)\n",
    "non_matched_merged_by_zipcode[\"fuzzy_name_score\"] = non_matched_merged_by_zipcode.apply(lambda x : fuzz.QRatio(x.Name.lower(),x.Hospital_Name_y.lower()),axis=1)\n",
    "non_matched_merged_by_zipcode[\"fuzzy_name_rank\"] = non_matched_merged_by_zipcode.groupby('Account_id')['fuzzy_name_score'].rank(ascending=False)\n",
    "non_matched_merged_by_zipcode = non_matched_merged_by_zipcode[non_matched_merged_by_zipcode.fuzzy_name_rank==1]\n",
    "manual_non_matched_merged = non_matched_merged_by_zipcode[non_matched_merged_by_zipcode.fuzzy_name_score < 50]\n",
    "non_matched_merged_by_zipcode = non_matched_merged_by_zipcode[non_matched_merged_by_zipcode.fuzzy_name_score >= 50]\n"
   ]
  },
  {
   "cell_type": "code",
   "execution_count": null,
   "metadata": {},
   "outputs": [],
   "source": [
    "manual_non_matched_merged = manual_non_matched_merged[manual_non_matched_merged.Hospital_Name_y !='nan']\n",
    "manual_non_matched_merged[\"PartialZipMatch\"] = manual_non_matched_merged.apply(lambda x : 'True' if abs(int(x.ZIP_Code_y[-2:]) - int( x.ShippingPostalCode[-2:])) == 1 and x.ZIP_Code_y[:-2] ==  x.ShippingPostalCode[:-2] else 'False', axis=1)\n",
    "manual_non_matched_merged[[\"Account_id\",\"Name\",\"ShippingCity\",\"Hospital_Name_y\",\"City_y\",\"fuzzy_name_score\",\"ZIP_Code_y\",\"ShippingPostalCode\",\"PartialZipMatch\"]].to_clipboard(index=False)\n",
    "non_matched_merged_by_zipcode[[\"Account_id\",\"Name\",\"ShippingCity\",\"BillingStreet\",\"Hospital_Name_y\",\"City_y\",\"Address_y\",\"fuzzy_name_score\",\"ZIP_Code_y\",\"ShippingPostalCode\"]].to_clipboard(index=False)\n"
   ]
  },
  {
   "cell_type": "code",
   "execution_count": null,
   "metadata": {},
   "outputs": [],
   "source": [
    "#matched_merged_by_zipcode[[\"Account_id\",\"Name\",\"ShippingCity\",\"Hospital_Name\",\"City\",\"fuzzy_name_score\",\"ZIP_Code\",\"ShippingPostalCode\"]].to_clipboard(index=False)\n",
    "non_matched_merged_by_zipcode[[\"Account_id\",\"Name\",\"ShippingCity\",\"Hospital_Name_y\",\"City_y\",\"fuzzy_name_score\",\"Provider_ID_x\"]].to_clipboard(index=False)\n",
    "\n",
    "\n",
    "non_matched_merged_by_zipcode\n",
    "\n",
    "\n",
    "manual_merged_by_zipcode.to_clipboard(index=False)\n",
    "#non_matched_merged_by_zipcode['Fuzzy_Hospital_Name'] = non_matched_merged_by_zipcode.head(3).Name.apply(lambda x : process.extractOne(x,hospitals_name_address_list)[0])"
   ]
  },
  {
   "cell_type": "code",
   "execution_count": null,
   "metadata": {},
   "outputs": [],
   "source": [
    "non_matched_merged_by_zipcode\n",
    "matched_merged_by_zipcode.to_clipboard(index=False)"
   ]
  },
  {
   "cell_type": "code",
   "execution_count": null,
   "metadata": {},
   "outputs": [],
   "source": [
    "#Grap the manual assignment data\n",
    "\n",
    "manual_assignment_non_matched_merged_df = pd.read_excel(\"hospitals_sf_accounts_mappings.xlsx\",\"manual_non_matched_merged\")\n",
    "#manual_assignment_non_matched_merged_df = manual_assignment_non_matched_merged_df[manual_assignment_non_matched_merged_df.match == 1]\n",
    "#adding provider id \n",
    "manual_assignment_non_matched_merged_df = pd.merge(manual_assignment_non_matched_merged_df,hospitals_df[[\"Provider_ID\",\"Hospital_Name\",\"City\"]],left_on=['Hospital_Name_y','City_y'],right_on=['Hospital_Name','City'])\n",
    "manual_assignment_non_matched_merged_df = manual_assignment_non_matched_merged_df.drop([\"Hospital_Name_y\",\"City_y\"],axis=1)\n",
    "manual_assignment_non_matched_merged_df = manual_assignment_non_matched_merged_df.rename(columns={\"ZIP_Code_y\":\"ZIP_Code\"})\n",
    "\n",
    "\n",
    "#non_matched_merged_by_zipcode Sheet\n",
    "manual_assignment_non_matched_merged_by_zipcode_df = pd.read_excel(\"hospitals_sf_accounts_mappings.xlsx\",\"non_matched_merged_by_zipcode\")\n",
    "#adding provider id \n",
    "manual_assignment_non_matched_merged_by_zipcode_merged_df = pd.merge(manual_assignment_non_matched_merged_by_zipcode_df,hospitals_df[[\"Provider_ID\",\"Hospital_Name\",\"City\"]],left_on=['Hospital_Name_y','City_y'],right_on=['Hospital_Name','City'])\n",
    "manual_assignment_non_matched_merged_by_zipcode_merged_df = manual_assignment_non_matched_merged_by_zipcode_merged_df.drop([\"Hospital_Name_y\",\"City_y\"],axis=1)\n",
    "manual_assignment_non_matched_merged_by_zipcode_merged_df = manual_assignment_non_matched_merged_by_zipcode_merged_df.rename(columns={\"ZIP_Code_y\":\"ZIP_Code\"})\n",
    "\n",
    "#manual_merged_by_zipcode Sheet\n",
    "manual_assignment_manual_merged_by_zipcode_df = pd.read_excel(\"hospitals_sf_accounts_mappings.xlsx\",\"manual_merged_by_zipcode\")\n",
    "\n",
    "\n",
    "#subset cols \n",
    "subset_cols = ['Account_id','Name','ShippingPostalCode','ShippingCity','Provider_ID','Hospital_Name','ZIP_Code','City','match','fuzzy_name_score']\n",
    "merged_manual_all_df = pd.concat([manual_assignment_non_matched_merged_df[subset_cols],manual_assignment_non_matched_merged_by_zipcode_merged_df[subset_cols],manual_assignment_manual_merged_by_zipcode_df[subset_cols]])\n",
    "matched_merged_by_zipcode['match'] = 1\n",
    "merged_all_df = pd.concat([matched_merged_by_zipcode[subset_cols],merged_manual_all_df])\n",
    "#merged_all_df = merged_all_df[merged_all_df.match==1]\n",
    "merged_all_df.to_csv('sf_account_provider_id_fuzzy_match_v1.csv',index=False)\n"
   ]
  },
  {
   "cell_type": "code",
   "execution_count": null,
   "metadata": {},
   "outputs": [],
   "source": [
    "len(merged_all_df)/1130"
   ]
  },
  {
   "cell_type": "code",
   "execution_count": null,
   "metadata": {},
   "outputs": [],
   "source": [
    "tmp1 = pd.merge(merged_all_df,sf_account_df[[\"Account_id\",\"ShippingStreet\"]],on=\"Account_id\")\n",
    "tmp2 = pd.merge(tmp1,hospitals_df[[\"Provider_ID\",\"Address\"]],on=\"Provider_ID\",how=\"left\")\n",
    "tmp2[\"match\"] = tmp2.match.apply(lambda x : 0 if x == '' else x)\n",
    "\n",
    "tmp2.fillna(0).to_csv(\"sf_account_provider_id_fuzzy_match_with_address_v1.csv\",index=False)"
   ]
  },
  {
   "cell_type": "code",
   "execution_count": null,
   "metadata": {},
   "outputs": [],
   "source": [
    "v2 = pd.read_excel(\"../data/matching/Copy of sf_account_provider_id_fuzzy_match_with_address_v2.xlsx\")"
   ]
  },
  {
   "cell_type": "code",
   "execution_count": null,
   "metadata": {},
   "outputs": [],
   "source": [
    "non_matched= v2[v2.match == 0]\n",
    "non_matched = non_matched[~non_matched.SF_Name.str.contains('OBSOLETE')]\n",
    "non_matched.columns\n",
    "non_matched = non_matched[[\"SF_Account_id\",\"SF_ShippingStreet\",\"SF_ShippingCity\",'SF_ShippingPostalCode']]\n",
    "\n",
    "sf_account_df = sf_account_df[sf_account_df[\"Customer_Prospect_Type__c\"].isin([\"Hospital\",\"Hospital System\"])]\n",
    "sf_account_df = sf_account_df[~sf_account_df[\"Name\"].str.contains(\"OBSOLETE\")]\n",
    "\n",
    "\n",
    "non_matched_joined = pd.merge(non_matched,sf_account_df[[\"Account_id\",\"Name\",\"BillingState\"]],left_on=\"SF_Account_id\",right_on=\"Account_id\")\n",
    "non_matched_joined = non_matched_joined.drop([\"Account_id\"],axis=1)\n"
   ]
  },
  {
   "cell_type": "code",
   "execution_count": 59,
   "metadata": {},
   "outputs": [],
   "source": [
    "v2_with_match_flag = v2[[\"SF_Account_id\",\"match\",\"Third_Party_Hospital_Name\",\"Third_Party_ZIP_Code\",\"Third_Party_City\",\"Third_Party_Address\",\"Third_Party_Provider_ID\"]]\n",
    "v2_with_match_flags_with_sf = pd.merge (v2_with_match_flag,sf_account_df,left_on=\"SF_Account_id\",right_on=\"Account_id\",how='outer')\n",
    "\n"
   ]
  },
  {
   "cell_type": "code",
   "execution_count": 56,
   "metadata": {},
   "outputs": [],
   "source": [
    "v2_with_match_flags_with_sf.to_csv(\"../data/matching/sf_all_accounts_with_manual_matching.csv\",index=False)"
   ]
  },
  {
   "cell_type": "code",
   "execution_count": 57,
   "metadata": {},
   "outputs": [
    {
     "data": {
      "text/plain": [
       "1864"
      ]
     },
     "execution_count": 57,
     "metadata": {},
     "output_type": "execute_result"
    }
   ],
   "source": [
    "len(sf_account_df)"
   ]
  },
  {
   "cell_type": "code",
   "execution_count": null,
   "metadata": {},
   "outputs": [],
   "source": []
  }
 ],
 "metadata": {
  "kernelspec": {
   "display_name": "Python 3",
   "language": "python",
   "name": "python3"
  },
  "language_info": {
   "codemirror_mode": {
    "name": "ipython",
    "version": 3
   },
   "file_extension": ".py",
   "mimetype": "text/x-python",
   "name": "python",
   "nbconvert_exporter": "python",
   "pygments_lexer": "ipython3",
   "version": "3.6.3"
  }
 },
 "nbformat": 4,
 "nbformat_minor": 2
}
